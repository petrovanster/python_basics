{
 "cells": [
  {
   "cell_type": "code",
   "execution_count": null,
   "metadata": {},
   "outputs": [],
   "source": [
    "! git clone https://github.com/petrovanster/python_basics.git\n",
    "! mv python_basics/* ."
   ]
  },
  {
   "attachments": {},
   "cell_type": "markdown",
   "metadata": {},
   "source": [
    "# Text Files"
   ]
  },
  {
   "cell_type": "code",
   "execution_count": 4,
   "metadata": {},
   "outputs": [],
   "source": [
    "# open the file for writing\n",
    "f = open('picard_quotes.txt', 'w')\n",
    "\n",
    "# list of Picard quotes\n",
    "quotes = [\n",
    "    \"Make it so.\",\n",
    "    \"Engage!\",\n",
    "    \"The line must be drawn here! This far, no further!\"\n",
    "]\n",
    "\n",
    "# write each quote to the file\n",
    "for quote in quotes:\n",
    "    f.write(quote + \"\\n\")\n",
    "\n",
    "\n",
    "# close the file\n",
    "f.close()"
   ]
  },
  {
   "cell_type": "code",
   "execution_count": 3,
   "metadata": {},
   "outputs": [
    {
     "name": "stdout",
     "output_type": "stream",
     "text": [
      "Picard says:  Make it so.\n",
      "\n",
      "Picard says:  Engage!\n",
      "\n",
      "Picard says:  The line must be drawn here! This far, no further!\n",
      "\n"
     ]
    }
   ],
   "source": [
    "with open(\"picard_quotes.txt\", \"r\") as f:\n",
    "    lines = f.readlines()\n",
    "    for line in lines:\n",
    "        print(\"Picard says: \", line)"
   ]
  }
 ],
 "metadata": {
  "kernelspec": {
   "display_name": "Python 3",
   "language": "python",
   "name": "python3"
  },
  "language_info": {
   "codemirror_mode": {
    "name": "ipython",
    "version": 3
   },
   "file_extension": ".py",
   "mimetype": "text/x-python",
   "name": "python",
   "nbconvert_exporter": "python",
   "pygments_lexer": "ipython3",
   "version": "3.11.2"
  },
  "orig_nbformat": 4
 },
 "nbformat": 4,
 "nbformat_minor": 2
}

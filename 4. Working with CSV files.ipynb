{
 "cells": [
  {
   "attachments": {},
   "cell_type": "markdown",
   "metadata": {},
   "source": [
    "# Reading CSV files"
   ]
  },
  {
   "cell_type": "code",
   "execution_count": 4,
   "metadata": {},
   "outputs": [
    {
     "name": "stdout",
     "output_type": "stream",
     "text": [
      "{'id': '1', 'filename': 'file1', 'extension': '.pdf', 'size': '1024'}\n",
      "{'id': '2', 'filename': 'file2', 'extension': '.docx', 'size': '5000'}\n",
      "{'id': '3', 'filename': 'file1', 'extension': '.pdf', 'size': '10000'}\n",
      "{'id': '4', 'filename': 'file1', 'extension': '.jpg', 'size': '2000'}\n"
     ]
    }
   ],
   "source": [
    "import csv\n",
    "\n",
    "# Open the file in read mode\n",
    "with open('data/file_list.csv', 'r', encoding=\"utf-8\") as read_obj:\n",
    "    # Pass the file object to reader() to get the reader object\n",
    "    csv_reader = csv.DictReader(read_obj, )\n",
    "    # Iterate over each row in the csv using reader object\n",
    "    for row in csv_reader:\n",
    "        # row variable is a list that represents a row in csv\n",
    "        print(row)"
   ]
  },
  {
   "attachments": {},
   "cell_type": "markdown",
   "metadata": {},
   "source": [
    "# Writing CSV files"
   ]
  },
  {
   "cell_type": "code",
   "execution_count": 6,
   "metadata": {},
   "outputs": [],
   "source": [
    "import csv\n",
    "\n",
    "scifi_movies = [\n",
    "    {\n",
    "        'name': '2001: A Space Odyssey',\n",
    "        'year': 1968,\n",
    "        'director': 'Stanley Kubrick'\n",
    "    },\n",
    "    {\n",
    "        'name': 'Blade Runner',\n",
    "        'year': 1982,\n",
    "        'director': 'Ridley Scott'\n",
    "    },\n",
    "    {\n",
    "        'name': 'The Matrix',\n",
    "        'year': 1999,\n",
    "        'director': 'The Wachowskis'\n",
    "    },\n",
    "    {\n",
    "        'name': 'Avatar',\n",
    "        'year': 2009,\n",
    "        'director': 'James Cameron'\n",
    "    }\n",
    "]\n",
    "\n",
    "with open(\"out_sample.csv\", 'w', encoding='utf-8') as out_file:\n",
    "    csv_writer = csv.DictWriter(out_file,fieldnames=['year', 'name', 'director'] )\n",
    "    for movie in scifi_movies:\n",
    "        csv_writer.writerow(movie)"
   ]
  },
  {
   "attachments": {},
   "cell_type": "markdown",
   "metadata": {},
   "source": [
    "# Let's put it together\n",
    "Using the {{{data/file_list.csv}}} as input, build a new CSV file that adds a new column that rebuilds the filename with extension. if the file is over 2 kb, it should prepend the prefix {{{large_}}} to the filename."
   ]
  },
  {
   "cell_type": "code",
   "execution_count": 9,
   "metadata": {},
   "outputs": [],
   "source": [
    "import csv\n",
    "\n",
    "with open('out_file_list.csv', 'w', encoding='utf-8') as out_file:\n",
    "    csv_writer = csv.DictWriter(out_file, fieldnames=['id', 'filename', 'extension', 'size', 'new_filename'])\n",
    "    with open('data/file_list.csv', 'r', encoding=\"utf-8\") as read_obj:\n",
    "        # Pass the file object to reader() to get the reader object\n",
    "        csv_reader = csv.DictReader(read_obj, )\n",
    "        # Iterate over each row in the csv using reader object\n",
    "        for row in csv_reader:\n",
    "            # compute the new filename\n",
    "            filename = row['filename'] + row['extension']\n",
    "            # prefix if larger than 2kB\n",
    "            if int(row['size'])>2048:\n",
    "                filename = \"large_\" + filename\n",
    "            row['new_filename'] = filename\n",
    "            csv_writer.writerow(row)"
   ]
  }
 ],
 "metadata": {
  "kernelspec": {
   "display_name": "Python 3",
   "language": "python",
   "name": "python3"
  },
  "language_info": {
   "codemirror_mode": {
    "name": "ipython",
    "version": 3
   },
   "file_extension": ".py",
   "mimetype": "text/x-python",
   "name": "python",
   "nbconvert_exporter": "python",
   "pygments_lexer": "ipython3",
   "version": "3.11.2"
  },
  "orig_nbformat": 4
 },
 "nbformat": 4,
 "nbformat_minor": 2
}

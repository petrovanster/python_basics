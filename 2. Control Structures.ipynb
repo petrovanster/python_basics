{
 "cells": [
  {
   "attachments": {},
   "cell_type": "markdown",
   "metadata": {},
   "source": [
    "# If statements"
   ]
  },
  {
   "cell_type": "code",
   "execution_count": null,
   "metadata": {},
   "outputs": [],
   "source": [
    "import random\n",
    "x = random.random()\n",
    "if x > 0.5:\n",
    "    print(\"heads\")\n",
    "else:\n",
    "    print(\"tails\")"
   ]
  },
  {
   "cell_type": "code",
   "execution_count": null,
   "metadata": {},
   "outputs": [],
   "source": [
    "import random\n",
    "result = \"heads\" if random.random()>0.5 else \"tails\"\n",
    "print(result)"
   ]
  },
  {
   "attachments": {},
   "cell_type": "markdown",
   "metadata": {},
   "source": [
    "# For loop\n",
    "A for loop is used enumerate an iterator. "
   ]
  },
  {
   "cell_type": "code",
   "execution_count": null,
   "metadata": {},
   "outputs": [],
   "source": [
    "# This for loop will print a Forrest Gump quote 5 times\n",
    "for i in range(1, 6):\n",
    "  print(\"Life is like a box of chocolates, you never know what you're gonna get - Forrest Gump\")\n"
   ]
  },
  {
   "attachments": {},
   "cell_type": "markdown",
   "metadata": {},
   "source": [
    "## continue & break clauses"
   ]
  },
  {
   "cell_type": "code",
   "execution_count": null,
   "metadata": {},
   "outputs": [],
   "source": [
    "names = [\"Pongo\", \"Perdita\", \"Puppy\", \"Patch\", \"Rolly\", \"Lucky\", \"Freeway\", \n",
    "         \"Freckles\", \"Dipper\", \"Dewey\", \"Lil\", \"Rufus\", \"Spot\", \"Pepper\", \n",
    "         \"Penny\", \"Chili\", \"Fidget\", \"Shadow\", \"Tiny\", \"Comet\", \"Cubby\", \n",
    "         \"Jewel\", \"Whizzer\", \"Dingo\", \"Bingo\", \"Cadpig\", \"Roly\", \"Scamp\", \n",
    "         \"Squeak\", \"Flip\", \"Mooch\", \"Gigi\", \"Wizzer\", \"Samson\", \"Delilah\", \n",
    "         \"Mister\", \"Dot\", \"Freckles\", \"Dudley\", \"Oddball\", \"Towser\", \n",
    "         \"Tiger\", \"Duchess\", \"Slick\", \"Slider\", \"Mugsy\", \"Molly\", \"Lucky\", \n",
    "         \"Laddie\", \"Lizard\", \"Tripod\", \"Bagel\", \"Freckles\", \"Blotch\", \n",
    "         \"Fidget\", \"Bouncer\", \"Bitsy\", \"Rascal\", \"Domino\", \"Dolly\", \"Fido\", \n",
    "         \"Tiger\", \"Trouble\", \"Chomper\", \"Freckles\", \"Midge\", \"Kipper\", \n",
    "         \"Mooch\", \"Freckles\", \"Nosey\", \"Freckles\", \"Nipper\", \"Freckles\", \n",
    "         \"Patch\", \"Freckles\", \"Peanut\", \"Freckles\", \"Pickles\", \"Freckles\", \n",
    "         \"Puddles\", \"Freckles\", \"Sparky\", \"Freckles\", \"Speckles\", \"Freckles\", \n",
    "         \"Spunky\", \"Freckles\", \"Socks\", \"Freckles\", \"Sooty\", \"Freckles\", \n",
    "         \"Stinger\", \"Freckles\", \"Towser\", \"Freckles\", \"Wags\", \"Freckles\"]\n",
    "\n",
    "for name in names:\n",
    "    if name == \"Puppy\":\n",
    "        continue\n",
    "    print(name)\n",
    "    if name == \"Dipper\":\n",
    "        break"
   ]
  },
  {
   "attachments": {},
   "cell_type": "markdown",
   "metadata": {},
   "source": [
    "# List comprehension\n",
    "Short syntax to create a new list based on the values in an existing list"
   ]
  },
  {
   "cell_type": "code",
   "execution_count": 2,
   "metadata": {},
   "outputs": [
    {
     "name": "stdout",
     "output_type": "stream",
     "text": [
      "[1, 4, 25, 81, 36, 16]\n",
      "[1, 2, 25, 81, 6, 4]\n"
     ]
    }
   ],
   "source": [
    "\n",
    "a = [1,2,5,9,6,4]\n",
    "# square all values in list\n",
    "result = [x*x for x in a]\n",
    "print(result)\n",
    "\n",
    "#square only odd values\n",
    "result = [x*x if x%2==1 else x for x in a]\n",
    "print(result)"
   ]
  },
  {
   "attachments": {},
   "cell_type": "markdown",
   "metadata": {},
   "source": [
    "# There's no switch/case control structure\n",
    "In Python there is no switch control structure. There are 2 approaches for working around it:\n",
    "* if / return"
   ]
  },
  {
   "attachments": {},
   "cell_type": "markdown",
   "metadata": {},
   "source": [
    "## Sequence of Ifs\n",
    "\n",
    "Use a sequence of \"if\" statements if there is code to be executed in each case."
   ]
  },
  {
   "cell_type": "code",
   "execution_count": null,
   "metadata": {},
   "outputs": [],
   "source": [
    "def play_song(song_name):\n",
    "  print(\"playing:\", song_name)\n",
    "\n",
    "def get_song(band_name):\n",
    "  if band_name == \"AC/DC\": \n",
    "    play_song(\"Highway to Hell\")\n",
    "    play_song(\"Mistreak\")  \n",
    "  if band_name == \"The Beatles\": \n",
    "    play_song(\"Hey Jude\")\n",
    "    play_song(\"Twist and Shout\")\n",
    "  if band_name == \"Metallica\": \n",
    "    play_song(\"Enter Sandman\")\n",
    "  return\n",
    "\n",
    "get_song(\"AC/DC\")"
   ]
  },
  {
   "attachments": {},
   "cell_type": "markdown",
   "metadata": {},
   "source": [
    "## Map values\n",
    "Use a dict to map values instead of \"switch\"-ing the input value."
   ]
  },
  {
   "cell_type": "code",
   "execution_count": null,
   "metadata": {},
   "outputs": [],
   "source": [
    "# Create a function to return the race of the character\n",
    "def get_star_trek_character_race(character):\n",
    "    # Create a dictionary to map character to race\n",
    "    star_trek_characters = {\n",
    "        \"Spock\": \"Vulcan\",\n",
    "        \"Kirk\": \"Human\",\n",
    "        \"Picard\": \"Human\",\n",
    "        \"Data\": \"Android\"\n",
    "    }\n",
    "    return star_trek_characters[character]\n",
    "\n",
    "# Call the function\n",
    "print(get_star_trek_character_race(\"Data\"))"
   ]
  },
  {
   "cell_type": "code",
   "execution_count": null,
   "metadata": {},
   "outputs": [],
   "source": []
  }
 ],
 "metadata": {
  "kernelspec": {
   "display_name": "Python 3",
   "language": "python",
   "name": "python3"
  },
  "language_info": {
   "codemirror_mode": {
    "name": "ipython",
    "version": 3
   },
   "file_extension": ".py",
   "mimetype": "text/x-python",
   "name": "python",
   "nbconvert_exporter": "python",
   "pygments_lexer": "ipython3",
   "version": "3.11.2"
  },
  "orig_nbformat": 4
 },
 "nbformat": 4,
 "nbformat_minor": 2
}
